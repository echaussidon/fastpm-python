{
 "cells": [
  {
   "cell_type": "code",
   "execution_count": 1,
   "metadata": {},
   "outputs": [
    {
     "name": "stdout",
     "output_type": "stream",
     "text": [
      "Populating the interactive namespace from numpy and matplotlib\n"
     ]
    }
   ],
   "source": [
    "%pylab inline"
   ]
  },
  {
   "cell_type": "code",
   "execution_count": 2,
   "metadata": {},
   "outputs": [],
   "source": [
    "import sys\n",
    "sys.path.insert(0, '../')"
   ]
  },
  {
   "cell_type": "code",
   "execution_count": 3,
   "metadata": {},
   "outputs": [],
   "source": [
    "from fastpm import core\n",
    "import numpy\n",
    "from fastpm.core import leapfrog\n",
    "\n",
    "from pmesh.pm import ParticleMesh\n",
    "from nbodykit.cosmology import Planck15\n",
    "from kdcount import KDTree"
   ]
  },
  {
   "cell_type": "code",
   "execution_count": 4,
   "metadata": {},
   "outputs": [],
   "source": [
    "from fastpm.glass import Solver"
   ]
  },
  {
   "cell_type": "code",
   "execution_count": 5,
   "metadata": {},
   "outputs": [],
   "source": [
    "from nbodykit.cosmology.background import MatterDominated"
   ]
  },
  {
   "cell_type": "code",
   "execution_count": null,
   "metadata": {},
   "outputs": [],
   "source": [
    "# NEED very high resolution to meet the shot noise limit if we want to\n",
    "# start at z=99.\n"
   ]
  },
  {
   "cell_type": "code",
   "execution_count": 42,
   "metadata": {},
   "outputs": [],
   "source": [
    "pm = ParticleMesh(BoxSize=1., Nmesh=[32, 32, 32])\n",
    "\n",
    "def test_solver(B=2, spread=3, N=3, T=4):\n",
    "    solver= Solver(pm, B)\n",
    "    stages = numpy.linspace(0, numpy.pi * 2 * (N + 0.25), int(T * (N + 0.25) + 1))\n",
    "\n",
    "    Q = pm.generate_uniform_particle_grid()\n",
    "    state = solver.run(3333, Q, stages, spread=spread, N=N)\n",
    "    \n",
    "    return state\n"
   ]
  },
  {
   "cell_type": "code",
   "execution_count": 43,
   "metadata": {},
   "outputs": [],
   "source": [
    "from nbodykit.lab import *"
   ]
  },
  {
   "cell_type": "code",
   "execution_count": 50,
   "metadata": {},
   "outputs": [
    {
     "name": "stdout",
     "output_type": "stream",
     "text": [
      "------\n"
     ]
    },
    {
     "name": "stderr",
     "output_type": "stream",
     "text": [
      "/home/yfeng1/anaconda3/install/lib/python3.6/site-packages/ipykernel_launcher.py:7: RuntimeWarning: invalid value encountered in true_divide\n",
      "  import sys\n",
      "/home/yfeng1/anaconda3/install/lib/python3.6/site-packages/ipykernel_launcher.py:25: RuntimeWarning: invalid value encountered in true_divide\n",
      "/home/yfeng1/anaconda3/install/lib/python3.6/site-packages/ipykernel_launcher.py:28: RuntimeWarning: invalid value encountered in true_divide\n"
     ]
    },
    {
     "name": "stdout",
     "output_type": "stream",
     "text": [
      "------\n"
     ]
    },
    {
     "name": "stderr",
     "output_type": "stream",
     "text": [
      "/home/yfeng1/anaconda3/install/lib/python3.6/site-packages/ipykernel_launcher.py:29: RuntimeWarning: invalid value encountered in true_divide\n",
      "/home/yfeng1/anaconda3/install/lib/python3.6/site-packages/ipykernel_launcher.py:30: RuntimeWarning: divide by zero encountered in true_divide\n"
     ]
    },
    {
     "data": {
      "text/plain": [
       "Text(0,0.5,'P / k**4 law')"
      ]
     },
     "execution_count": 50,
     "metadata": {},
     "output_type": "execute_result"
    },
    {
     "data": {
      "image/png": "[encoded data removed]",
      "text/plain": [
       "<Figure size 432x288 with 1 Axes>"
      ]
     },
     "metadata": {
      "needs_background": "light"
     },
     "output_type": "display_data"
    }
   ],
   "source": [
    "print('------')\n",
    "\n",
    "state = test_solver(spread=8, N=9, B=2)\n",
    "r = FFTPower(state.to_catalog(attrs={'BoxSize' :  state.pm.BoxSize}), mode='1d', Nmesh=128)\n",
    "kref = 2 * pi / pm.BoxSize[0] * pm.Nmesh[0]// 4\n",
    "powerlaw = (r.power['k'] ** 4 / kref ** 4)* r.power.sel(method='nearest', k=[kref])['power'].real \n",
    "plot(r.power['k'], r.power['power'] / powerlaw, label='8-9-2', lw=3)\n",
    "\n",
    "\n",
    "#state = test_solver(spread=5, N=3, B=2)\n",
    "#r = FFTPower(state.to_catalog(attrs={'BoxSize' :  state.pm.BoxSize}), mode='1d', Nmesh=128)\n",
    "#plot(r.power['k'], r.power['power']  / powerlaw, label='5-3-2', ls=':')\n",
    "\n",
    "#state = test_solver(spread=3, N=6, B=2)\n",
    "#r = FFTPower(state.to_catalog(attrs={'BoxSize' :  state.pm.BoxSize}), mode='1d', Nmesh=128)\n",
    "#plot(r.power['k'], r.power['power']  / powerlaw, label='3-6-2', ls=':')\n",
    "\n",
    "#state = test_solver(spread=1, N=3, B=2)\n",
    "#r = FFTPower(state.to_catalog(attrs={'BoxSize' :  state.pm.BoxSize}), mode='1d', Nmesh=128)\n",
    "#plot(r.power['k'], r.power['power']  / powerlaw, label='1-3-2', ls=':')\n",
    "\n",
    "\n",
    "state = test_solver(spread=3, N=3, B=2)\n",
    "r = FFTPower(state.to_catalog(attrs={'BoxSize' :  state.pm.BoxSize}), mode='1d', Nmesh=128)\n",
    "plot(r.power['k'], r.power['power'] / powerlaw, label='3-3-2 default', lw=3)\n",
    "\n",
    "print('------')\n",
    "plot(r.power['k'], powerlaw / powerlaw, label='k**4', ls='--', color='k')\n",
    "plot(r.power['k'], Planck15.clone(P_k_max=r.power['k'].max() * 2).get_pklin(r.power['k'], z=99) / powerlaw, label='z=99', ls=':', color='black')\n",
    "plot(r.power['k'], 1  / (pm.Nmesh / pm.BoxSize).prod()  / powerlaw, label='shot-noise', ls='-', color='black')\n",
    "axvline(2 * pi / pm.BoxSize[0] * pm.Nmesh[0] / 2, label='grid nyquist', ls='--', color='grey')\n",
    "\n",
    "legend(ncol=2)\n",
    "yscale('log')\n",
    "#ylim(0.1, 100)\n",
    "xscale('log')\n",
    "xlabel('k [kpc/h]')\n",
    "ylabel('P / k**4 law')"
   ]
  },
  {
   "cell_type": "code",
   "execution_count": null,
   "metadata": {},
   "outputs": [],
   "source": [
    "state = test_solver(spread=3, N=3.5, B=2, T=4)\n",
    "mask = state.Q[:, 1] < 130\n",
    "plot(state.X[:, 0][mask] % pm.BoxSize[0], state.X[:, 2][mask] % pm.BoxSize[0], '.')\n",
    "state = test_solver(spread=3, N=3.5, B=2, T=16)\n",
    "plot(state.X[:, 0][mask] % pm.BoxSize[0], state.X[:, 2][mask] % pm.BoxSize[0], 'x')"
   ]
  },
  {
   "cell_type": "code",
   "execution_count": 56,
   "metadata": {},
   "outputs": [
    {
     "data": {
      "image/png": "[encoded data removed]",
      "text/plain": [
       "<Figure size 432x288 with 1 Axes>"
      ]
     },
     "metadata": {
      "needs_background": "light"
     },
     "output_type": "display_data"
    }
   ],
   "source": [
    "plot(r.power['k'], r.power['power'])\n",
    "plot(r.power['k'], r.power['k'] ** 4 * r.power.sel(method='nearest', k=[1.])['power'].real)\n",
    "axhline(1  / (pm.Nmesh / pm.BoxSize).prod())\n",
    "axvline(2 * pi / pm.BoxSize[0] * pm.Nmesh[0] / 2)\n",
    "yscale('log')\n",
    "xscale('log')"
   ]
  },
  {
   "cell_type": "code",
   "execution_count": 46,
   "metadata": {},
   "outputs": [],
   "source": [
    "h, b, b = histogram2d(state.X[:, 0] % pm.BoxSize[0], state.X[:, 1] % pm.BoxSize[1], bins=32)"
   ]
  },
  {
   "cell_type": "code",
   "execution_count": 47,
   "metadata": {},
   "outputs": [
    {
     "data": {
      "text/plain": [
       "(array([  1.,  11.,  75., 216., 294., 253., 126.,  40.,   7.,   1.]),\n",
       " array([22. , 24.1, 26.2, 28.3, 30.4, 32.5, 34.6, 36.7, 38.8, 40.9, 43. ]),\n",
       " <a list of 10 Patch objects>)"
      ]
     },
     "execution_count": 47,
     "metadata": {},
     "output_type": "execute_result"
    },
    {
     "data": {
      "image/png": "[encoded data removed]",
      "text/plain": [
       "<Figure size 432x288 with 1 Axes>"
      ]
     },
     "metadata": {
      "needs_background": "light"
     },
     "output_type": "display_data"
    }
   ],
   "source": [
    "hist(h.flat)"
   ]
  },
  {
   "cell_type": "code",
   "execution_count": null,
   "metadata": {},
   "outputs": [],
   "source": []
  }
 ],
 "metadata": {
  "kernelspec": {
   "display_name": "Python 3",
   "language": "python",
   "name": "python3"
  },
  "language_info": {
   "codemirror_mode": {
    "name": "ipython",
    "version": 3
   },
   "file_extension": ".py",
   "mimetype": "text/x-python",
   "name": "python",
   "nbconvert_exporter": "python",
   "pygments_lexer": "ipython3",
   "version": "3.7.3"
  }
 },
 "nbformat": 4,
 "nbformat_minor": 2
}
